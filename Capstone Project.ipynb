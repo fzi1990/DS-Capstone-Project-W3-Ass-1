{
    "nbformat_minor": 1, 
    "cells": [
        {
            "execution_count": 2, 
            "cell_type": "code", 
            "metadata": {}, 
            "outputs": [
                {
                    "output_type": "stream", 
                    "name": "stdout", 
                    "text": "(288, 3)\n  Postcode           Borough     Neighbourhood\n0      M1A      Not assigned      Not assigned\n1      M2A      Not assigned      Not assigned\n2      M3A        North York         Parkwoods\n3      M4A        North York  Victoria Village\n4      M5A  Downtown Toronto      Harbourfront\n5      M5A  Downtown Toronto       Regent Park\n6      M6A        North York  Lawrence Heights\n7      M6A        North York    Lawrence Manor\n8      M7A      Queen's Park      Not assigned\n9      M8A      Not assigned      Not assigned\n"
                }
            ], 
            "source": "# Scraping data from Wiki\nimport pandas as pd\nimport numpy as np\n#Read data from wiki\nlink=\"https://en.wikipedia.org/wiki/List_of_postal_codes_of_Canada:_M\"\ntable1 = pd.read_html(link,header=0)\ndf1=pd.DataFrame(table1[0])\nprint(df1.shape)\nprint(df1.head(10))"
        }, 
        {
            "execution_count": 5, 
            "cell_type": "code", 
            "metadata": {}, 
            "outputs": [
                {
                    "output_type": "stream", 
                    "name": "stdout", 
                    "text": "211\n"
                }, 
                {
                    "execution_count": 5, 
                    "metadata": {}, 
                    "data": {
                        "text/html": "<div>\n<style scoped>\n    .dataframe tbody tr th:only-of-type {\n        vertical-align: middle;\n    }\n\n    .dataframe tbody tr th {\n        vertical-align: top;\n    }\n\n    .dataframe thead th {\n        text-align: right;\n    }\n</style>\n<table border=\"1\" class=\"dataframe\">\n  <thead>\n    <tr style=\"text-align: right;\">\n      <th></th>\n      <th>Postcode</th>\n      <th>Borough</th>\n      <th>Neighbourhood</th>\n    </tr>\n  </thead>\n  <tbody>\n    <tr>\n      <th>0</th>\n      <td>M3A</td>\n      <td>North York</td>\n      <td>Parkwoods</td>\n    </tr>\n    <tr>\n      <th>1</th>\n      <td>M4A</td>\n      <td>North York</td>\n      <td>Victoria Village</td>\n    </tr>\n    <tr>\n      <th>2</th>\n      <td>M5A</td>\n      <td>Downtown Toronto</td>\n      <td>Harbourfront</td>\n    </tr>\n    <tr>\n      <th>3</th>\n      <td>M5A</td>\n      <td>Downtown Toronto</td>\n      <td>Regent Park</td>\n    </tr>\n    <tr>\n      <th>4</th>\n      <td>M6A</td>\n      <td>North York</td>\n      <td>Lawrence Heights</td>\n    </tr>\n    <tr>\n      <th>5</th>\n      <td>M6A</td>\n      <td>North York</td>\n      <td>Lawrence Manor</td>\n    </tr>\n    <tr>\n      <th>6</th>\n      <td>M7A</td>\n      <td>Queen's Park</td>\n      <td>Not assigned</td>\n    </tr>\n    <tr>\n      <th>7</th>\n      <td>M9A</td>\n      <td>Etobicoke</td>\n      <td>Islington Avenue</td>\n    </tr>\n    <tr>\n      <th>8</th>\n      <td>M1B</td>\n      <td>Scarborough</td>\n      <td>Rouge</td>\n    </tr>\n    <tr>\n      <th>9</th>\n      <td>M1B</td>\n      <td>Scarborough</td>\n      <td>Malvern</td>\n    </tr>\n    <tr>\n      <th>10</th>\n      <td>M3B</td>\n      <td>North York</td>\n      <td>Don Mills North</td>\n    </tr>\n    <tr>\n      <th>11</th>\n      <td>M4B</td>\n      <td>East York</td>\n      <td>Woodbine Gardens</td>\n    </tr>\n    <tr>\n      <th>12</th>\n      <td>M4B</td>\n      <td>East York</td>\n      <td>Parkview Hill</td>\n    </tr>\n    <tr>\n      <th>13</th>\n      <td>M5B</td>\n      <td>Downtown Toronto</td>\n      <td>Ryerson</td>\n    </tr>\n    <tr>\n      <th>14</th>\n      <td>M5B</td>\n      <td>Downtown Toronto</td>\n      <td>Garden District</td>\n    </tr>\n    <tr>\n      <th>15</th>\n      <td>M6B</td>\n      <td>North York</td>\n      <td>Glencairn</td>\n    </tr>\n    <tr>\n      <th>16</th>\n      <td>M9B</td>\n      <td>Etobicoke</td>\n      <td>Cloverdale</td>\n    </tr>\n    <tr>\n      <th>17</th>\n      <td>M9B</td>\n      <td>Etobicoke</td>\n      <td>Islington</td>\n    </tr>\n    <tr>\n      <th>18</th>\n      <td>M9B</td>\n      <td>Etobicoke</td>\n      <td>Martin Grove</td>\n    </tr>\n    <tr>\n      <th>19</th>\n      <td>M9B</td>\n      <td>Etobicoke</td>\n      <td>Princess Gardens</td>\n    </tr>\n  </tbody>\n</table>\n</div>", 
                        "text/plain": "   Postcode           Borough     Neighbourhood\n0       M3A        North York         Parkwoods\n1       M4A        North York  Victoria Village\n2       M5A  Downtown Toronto      Harbourfront\n3       M5A  Downtown Toronto       Regent Park\n4       M6A        North York  Lawrence Heights\n5       M6A        North York    Lawrence Manor\n6       M7A      Queen's Park      Not assigned\n7       M9A         Etobicoke  Islington Avenue\n8       M1B       Scarborough             Rouge\n9       M1B       Scarborough           Malvern\n10      M3B        North York   Don Mills North\n11      M4B         East York  Woodbine Gardens\n12      M4B         East York     Parkview Hill\n13      M5B  Downtown Toronto           Ryerson\n14      M5B  Downtown Toronto   Garden District\n15      M6B        North York         Glencairn\n16      M9B         Etobicoke        Cloverdale\n17      M9B         Etobicoke         Islington\n18      M9B         Etobicoke      Martin Grove\n19      M9B         Etobicoke  Princess Gardens"
                    }, 
                    "output_type": "execute_result"
                }
            ], 
            "source": "# Drop all rows with Not Assigned Borough.\ndf1.drop(df1[df1.Borough == 'Not assigned'].index, inplace=True)\nI=len(df1)\nprint(I)\ndf1.index=range(I)\ndf1.head(20)"
        }, 
        {
            "execution_count": 6, 
            "cell_type": "code", 
            "metadata": {}, 
            "outputs": [
                {
                    "output_type": "stream", 
                    "name": "stdout", 
                    "text": "    Postcode       Borough                                      Neighbourhood\n83       M6R  West Toronto                             Parkdale, Roncesvalles\n84       M6S  West Toronto                                 Runnymede, Swansea\n85       M7A  Queen's Park                                       Not assigned\n86       M7R   Mississauga              Canada Post Gateway Processing Centre\n87       M7Y  East Toronto  Business Reply Mail Processing Centre 969 Eastern\n88       M8V     Etobicoke       Humber Bay Shores, Mimico South, New Toronto\n89       M8W     Etobicoke                             Alderwood, Long Branch\n90       M8X     Etobicoke      The Kingsway, Montgomery Road, Old Mill North\n91       M8Y     Etobicoke  Humber Bay, King's Mill Park, Kingsway Park So...\n92       M8Z     Etobicoke  Kingsway Park South West, Mimico NW, The Queen...\n93       M9A     Etobicoke                                   Islington Avenue\n94       M9B     Etobicoke  Cloverdale, Islington, Martin Grove, Princess ...\n95       M9C     Etobicoke  Bloordale Gardens, Eringate, Markland Wood, Ol...\n96       M9L    North York                                      Humber Summit\n97       M9M    North York                                   Emery, Humberlea\n98       M9N          York                                             Weston\n99       M9P     Etobicoke                                          Westmount\n100      M9R     Etobicoke  Kingsview Village, Martin Grove Gardens, Richv...\n101      M9V     Etobicoke  Albion Gardens, Beaumond Heights, Humbergate, ...\n102      M9W     Etobicoke                                          Northwest\n    Postcode       Borough                                      Neighbourhood\n83       M6R  West Toronto                             Parkdale, Roncesvalles\n84       M6S  West Toronto                                 Runnymede, Swansea\n85       M7A  Queen's Park                                       Queen's Park\n86       M7R   Mississauga              Canada Post Gateway Processing Centre\n87       M7Y  East Toronto  Business Reply Mail Processing Centre 969 Eastern\n88       M8V     Etobicoke       Humber Bay Shores, Mimico South, New Toronto\n89       M8W     Etobicoke                             Alderwood, Long Branch\n90       M8X     Etobicoke      The Kingsway, Montgomery Road, Old Mill North\n91       M8Y     Etobicoke  Humber Bay, King's Mill Park, Kingsway Park So...\n92       M8Z     Etobicoke  Kingsway Park South West, Mimico NW, The Queen...\n93       M9A     Etobicoke                                   Islington Avenue\n94       M9B     Etobicoke  Cloverdale, Islington, Martin Grove, Princess ...\n95       M9C     Etobicoke  Bloordale Gardens, Eringate, Markland Wood, Ol...\n96       M9L    North York                                      Humber Summit\n97       M9M    North York                                   Emery, Humberlea\n98       M9N          York                                             Weston\n99       M9P     Etobicoke                                          Westmount\n100      M9R     Etobicoke  Kingsview Village, Martin Grove Gardens, Richv...\n101      M9V     Etobicoke  Albion Gardens, Beaumond Heights, Humbergate, ...\n102      M9W     Etobicoke                                          Northwest\n"
                }
            ], 
            "source": "#Combine Neighborhoods with same Postcode and Assign Borough name to Not assigned Neighborhoods \ngp1=df1.groupby('Postcode')['Neighbourhood'].apply(lambda x: \"%s\" % ', '.join(x))\ngp2=df1.groupby('Postcode')['Borough'].apply(np.unique)\nNgp = pd.concat([gp2, gp1],axis=1)\nNew = Ngp.reset_index() \nNew['Borough'] = New.Borough.apply(', '.join)\nprint(New.tail(20))\nNew['Neighbourhood'].replace(\"Not assigned\", New['Borough'], inplace=True)\nprint(New.tail(20))"
        }, 
        {
            "execution_count": 7, 
            "cell_type": "code", 
            "metadata": {}, 
            "outputs": [
                {
                    "output_type": "stream", 
                    "name": "stdout", 
                    "text": "Number of Rows and Columns in new data frame :  (103, 3)\n"
                }
            ], 
            "source": "print (\"Number of Rows and Columns in new data frame : \",New.shape)"
        }
    ], 
    "metadata": {
        "kernelspec": {
            "display_name": "Python 3.6", 
            "name": "python3", 
            "language": "python"
        }, 
        "language_info": {
            "mimetype": "text/x-python", 
            "nbconvert_exporter": "python", 
            "version": "3.6.8", 
            "name": "python", 
            "file_extension": ".py", 
            "pygments_lexer": "ipython3", 
            "codemirror_mode": {
                "version": 3, 
                "name": "ipython"
            }
        }
    }, 
    "nbformat": 4
}